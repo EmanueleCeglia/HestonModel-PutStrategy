{
 "cells": [
  {
   "cell_type": "code",
   "execution_count": 1,
   "metadata": {},
   "outputs": [],
   "source": [
    "import numpy as np\n",
    "from scipy.integrate import quad\n",
    "from datetime import datetime as dt\n",
    "from datetime import timedelta\n",
    "import yfinance as yf\n",
    "from scipy.optimize import minimize\n",
    "from scipy.stats import norm\n",
    "import matplotlib.pyplot as plt\n",
    "from scipy.stats import skew"
   ]
  },
  {
   "cell_type": "markdown",
   "metadata": {},
   "source": [
    "INPUT PARAMETERS DEFINITION"
   ]
  },
  {
   "cell_type": "code",
   "execution_count": 2,
   "metadata": {},
   "outputs": [
    {
     "name": "stdout",
     "output_type": "stream",
     "text": [
      "[*********************100%%**********************]  1 of 1 completed\n",
      "S&P500 price: 4532.0\n"
     ]
    },
    {
     "name": "stderr",
     "output_type": "stream",
     "text": [
      "C:\\Users\\e.ceglia\\AppData\\Local\\Temp\\ipykernel_7276\\1473369541.py:8: FutureWarning: Series.__getitem__ treating keys as positions is deprecated. In a future version, integer keys will always be treated as labels (consistent with DataFrame behavior). To access a value by position, use `ser.iloc[pos]`\n",
      "  price_today = np.round(sp500_ts.tail(1)[0])\n"
     ]
    }
   ],
   "source": [
    "#S0 INITIAL SPOT PRICE\n",
    "start = dt(2010,1,1)\n",
    "end = dt.today()\n",
    "\n",
    "sp500_ts = yf.download('^GSPC', start = start, end=dt.today())\n",
    "sp500_ts = sp500_ts['Close']\n",
    "\n",
    "price_today = np.round(sp500_ts.tail(1)[0])\n",
    "\n",
    "print('S&P500 price:',price_today)"
   ]
  },
  {
   "cell_type": "code",
   "execution_count": 3,
   "metadata": {},
   "outputs": [],
   "source": [
    "#r RISK FREE RATE\n",
    "r = 0.0352"
   ]
  },
  {
   "cell_type": "code",
   "execution_count": 4,
   "metadata": {},
   "outputs": [
    {
     "name": "stdout",
     "output_type": "stream",
     "text": [
      "Speed of reversion to the mean: -2.1\n"
     ]
    }
   ],
   "source": [
    "#kappa REVERSE MEAN COMPUTED USING AUTOCORRELATION METHOD\n",
    "sp500_logret = np.log(sp500_ts/sp500_ts.shift(1)).dropna()\n",
    "autocorr = sp500_logret.autocorr()\n",
    "reverse_mean = np.round(np.log(-autocorr), 2)\n",
    "print(\"Speed of reversion to the mean:\",reverse_mean)"
   ]
  },
  {
   "cell_type": "code",
   "execution_count": 5,
   "metadata": {},
   "outputs": [
    {
     "name": "stdout",
     "output_type": "stream",
     "text": [
      "[*********************100%%**********************]  1 of 1 completed\n",
      "Volatility of variance: 0.08\n"
     ]
    }
   ],
   "source": [
    "#sigma VOLATILITY OF VARIANCE\n",
    "#vix = yf.download(\"^VIX\", start = start, end=dt.today())\n",
    "#vix = np.round(vix['Close'].tail(1)[0])\n",
    "\n",
    "vix_hist = yf.download(\"^VIX\", start = start, end=dt.today())\n",
    "vix_hist = vix_hist['Close']\n",
    "\n",
    "vix_ret = np.log(vix_hist/vix_hist.shift(1)).dropna()\n",
    "\n",
    "sigma = np.round(np.std(vix_ret), 2)\n",
    "print('Volatility of variance:',sigma)"
   ]
  },
  {
   "cell_type": "code",
   "execution_count": 8,
   "metadata": {},
   "outputs": [
    {
     "name": "stdout",
     "output_type": "stream",
     "text": [
      "-0.75\n"
     ]
    }
   ],
   "source": [
    "#Rho CORRELATION BETWEEN UNDERLYING AND HIS VARIANCE\n",
    "corr_coef = np.round(np.corrcoef(sp500_logret.values, vix_ret.values), 2)\n",
    "print(corr_coef[0,1])"
   ]
  },
  {
   "cell_type": "markdown",
   "metadata": {},
   "source": [
    "HESTON MODEL PARAMETER DEFINITION"
   ]
  },
  {
   "cell_type": "code",
   "execution_count": 9,
   "metadata": {},
   "outputs": [],
   "source": [
    "S0 = price_today    # initial spot price\n",
    "V0 = 0.05   # initial variance\n",
    "kappa = reverse_mean   # speed of reversion\n",
    "theta = 0.06  # long term variance\n",
    "#sigma already defined\n",
    "rho = corr_coef[0,1]    # correlation between underlying and his variance"
   ]
  },
  {
   "cell_type": "markdown",
   "metadata": {},
   "source": [
    "PUT OPTION PARAMETER DEFINITION"
   ]
  },
  {
   "cell_type": "code",
   "execution_count": 11,
   "metadata": {},
   "outputs": [],
   "source": [
    "K = 4165.0     # Strike price found in Step 1\n",
    "T = 1/12  # Time to maturity "
   ]
  },
  {
   "cell_type": "markdown",
   "metadata": {},
   "source": [
    "MONTE-CARLO SIMULATIONS"
   ]
  },
  {
   "cell_type": "code",
   "execution_count": 16,
   "metadata": {},
   "outputs": [],
   "source": [
    "# Number of Monte-Carlo simulations\n",
    "N = 1000000\n",
    "\n",
    "# Monte-Carlo paths for price and varianxce\n",
    "dt = T/21\n",
    "days = 21\n",
    "Z1 = np.random.randn(N, days)  #Random sampling from N(0,1)\n",
    "Z2 = rho*Z1 + np.sqrt(1-rho**2)*np.random.randn(N, days)  #\n",
    "S = np.zeros((N, days+1))\n",
    "V = np.zeros((N, days+1))\n",
    "S[:,0] = S0  #SPOT PRICE\n",
    "V[:,0] = V0  #VARIANCE\n",
    "\n",
    "margin_call = np.zeros(N, dtype=bool)  # initialize array to keep track of margin calls\n",
    "M = 400 # Margin available\n",
    "\n",
    "for i in range(days):\n",
    "    dS = r*S[:,i]*dt + np.sqrt(V[:,i])*S[:,i]*np.sqrt(dt)*Z1[:,i] #Delta prezzo\n",
    "    dV = kappa*(theta-V[:,i])*dt + sigma*np.sqrt(V[:,i])*np.sqrt(dt)*Z2[:,i] #Delta varianza\n",
    "    S[:,i+1] = S[:,i] + dS  \n",
    "    V[:,i+1] = V[:,i] + dV  \n",
    "    V[:,i+1] = np.maximum(V[:,i+1], 0)  #Confronto la var della montecarlo al tempo t con 0, prendo il massimo o 0, non può essere negativa\n",
    "    # calculate payoff at this step\n",
    "    payoff = np.maximum(K - S[:, i+1], 0)\n",
    "    \n",
    "    # update margin_call array if payoff is greater than M\n",
    "    margin_call = np.logical_or(margin_call, payoff > M)"
   ]
  },
  {
   "cell_type": "code",
   "execution_count": 18,
   "metadata": {},
   "outputs": [
    {
     "name": "stdout",
     "output_type": "stream",
     "text": [
      "Probability that option put will be ITM in one month's time:: 0.094059\n",
      "Margin call probability: 0.004073\n"
     ]
    }
   ],
   "source": [
    "# PAYOFF PUT OPTION\n",
    "payoff = np.maximum(K-S[:,-1], 0)\n",
    "\n",
    "# PROBABILITY ITM\n",
    "prob = np.sum(payoff > 0)/N\n",
    "\n",
    "print(\"Probability that option put will be ITM in one month's time::\", prob)\n",
    "\n",
    "# PROBABILITY OF MARGIN CALL\n",
    "prob_margin_call = np.sum(margin_call) / N\n",
    "\n",
    "print(\"Margin call probability:\", prob_margin_call)\n",
    "\n",
    "# for i in range(100):\n",
    "#     plt.plot(S[i])"
   ]
  }
 ],
 "metadata": {
  "kernelspec": {
   "display_name": "Python 3 (ipykernel)",
   "language": "python",
   "name": "python3"
  },
  "language_info": {
   "codemirror_mode": {
    "name": "ipython",
    "version": 3
   },
   "file_extension": ".py",
   "mimetype": "text/x-python",
   "name": "python",
   "nbconvert_exporter": "python",
   "pygments_lexer": "ipython3",
   "version": "3.11.5"
  }
 },
 "nbformat": 4,
 "nbformat_minor": 4
}
