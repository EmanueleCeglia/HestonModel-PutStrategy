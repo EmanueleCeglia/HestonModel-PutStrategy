{
 "cells": [
  {
   "cell_type": "code",
   "execution_count": 18,
   "metadata": {},
   "outputs": [],
   "source": [
    "import numpy as np\n",
    "from scipy.integrate import quad\n",
    "from datetime import datetime as dt\n",
    "from datetime import timedelta\n",
    "import yfinance as yf\n",
    "from scipy.optimize import minimize\n",
    "from scipy.stats import norm\n",
    "import matplotlib.pyplot as plt\n",
    "from scipy.stats import skew"
   ]
  },
  {
   "cell_type": "markdown",
   "metadata": {},
   "source": [
    "INPUT PARAMETERS DEFINITION"
   ]
  },
  {
   "cell_type": "code",
   "execution_count": 19,
   "metadata": {},
   "outputs": [
    {
     "name": "stdout",
     "output_type": "stream",
     "text": [
      "[*********************100%***********************]  1 of 1 completed\n",
      "S&P500 price: 4104.0\n"
     ]
    }
   ],
   "source": [
    "#S0 INITIAL SPOT PRICE\n",
    "start = dt(2023,1,1)\n",
    "end = dt.today()\n",
    "\n",
    "sp500_ts = yf.download('^GSPC', start = start, end=dt.today())\n",
    "sp500_ts = sp500_ts['Close']\n",
    "\n",
    "price_today = np.round(sp500_ts.tail(1)[0])\n",
    "\n",
    "print('S&P500 price:',price_today)"
   ]
  },
  {
   "cell_type": "code",
   "execution_count": 20,
   "metadata": {},
   "outputs": [],
   "source": [
    "#r RISK FREE RATE\n",
    "r = 0.0352"
   ]
  },
  {
   "cell_type": "code",
   "execution_count": 21,
   "metadata": {},
   "outputs": [
    {
     "name": "stdout",
     "output_type": "stream",
     "text": [
      "Speed of reversion to the mean: -3.24\n"
     ]
    }
   ],
   "source": [
    "#kappa REVERSE MEAN COMPUTED USING AUTOCORRELATION METHOD\n",
    "sp500_logret = np.log(sp500_ts/sp500_ts.shift(1)).dropna()\n",
    "autocorr = sp500_logret.autocorr()\n",
    "reverse_mean = np.round(np.log(-autocorr), 2)\n",
    "print(\"Speed of reversion to the mean:\",reverse_mean)"
   ]
  },
  {
   "cell_type": "code",
   "execution_count": 22,
   "metadata": {},
   "outputs": [
    {
     "name": "stdout",
     "output_type": "stream",
     "text": [
      "[*********************100%***********************]  1 of 1 completed\n",
      "Volatility of variance: 0.06\n"
     ]
    }
   ],
   "source": [
    "#sigma VOLATILITY OF VARIANCE\n",
    "#vix = yf.download(\"^VIX\", start = start, end=dt.today())\n",
    "#vix = np.round(vix['Close'].tail(1)[0])\n",
    "\n",
    "vix_hist = yf.download(\"^VIX\", start = start, end=dt.today())\n",
    "vix_hist = vix_hist['Close']\n",
    "\n",
    "vix_ret = np.log(vix_hist/vix_hist.shift(1)).dropna()\n",
    "\n",
    "sigma = np.round(np.std(vix_ret), 2)\n",
    "print('Volatility of variance:',sigma)"
   ]
  },
  {
   "cell_type": "code",
   "execution_count": 23,
   "metadata": {},
   "outputs": [
    {
     "name": "stdout",
     "output_type": "stream",
     "text": [
      "-0.76\n"
     ]
    }
   ],
   "source": [
    "#Rho CORRELATION BETWEEN UNDERLYING AND HIS VARIANCE\n",
    "corr_coef = np.round(np.corrcoef(sp500_logret.values, vix_ret.values), 2)\n",
    "print(corr_coef[0,1])"
   ]
  },
  {
   "cell_type": "markdown",
   "metadata": {},
   "source": [
    "HESTON MODEL PARAMETER DEFINITION"
   ]
  },
  {
   "cell_type": "code",
   "execution_count": 24,
   "metadata": {},
   "outputs": [],
   "source": [
    "S0 = price_today    # initial spot price\n",
    "V0 = 0.05   # initial variance\n",
    "kappa = reverse_mean   # speed of reversion\n",
    "theta = 0.06  # long term variance\n",
    "#sigma already defined\n",
    "rho = corr_coef[0,1]    # correlation between underlying and his variance"
   ]
  },
  {
   "cell_type": "markdown",
   "metadata": {},
   "source": [
    "PUT OPTION PARAMETER DEFINITION"
   ]
  },
  {
   "cell_type": "code",
   "execution_count": 25,
   "metadata": {},
   "outputs": [],
   "source": [
    "K = 3810     # Strike price\n",
    "T = 1/12  # Time to maturity "
   ]
  },
  {
   "cell_type": "markdown",
   "metadata": {},
   "source": [
    "MONTE-CARLO SIMULATIONS"
   ]
  },
  {
   "cell_type": "code",
   "execution_count": 26,
   "metadata": {},
   "outputs": [],
   "source": [
    "# Number of Monte-Carlo simulations\n",
    "N = 1000000\n",
    "# Monte-Carlo paths for price and varianxce\n",
    "dt = T/21\n",
    "days = 21\n",
    "Z1 = np.random.randn(N, days)  #Estrazioni casuali da una distribuzione N(0,1)\n",
    "Z2 = rho*Z1 + np.sqrt(1-rho**2)*np.random.randn(N, days)  #\n",
    "S = np.zeros((N, days+1))\n",
    "V = np.zeros((N, days+1))\n",
    "S[:,0] = S0  #SPOT PRICE\n",
    "V[:,0] = V0  #VARIANCE\n",
    "for i in range(days):\n",
    "    dS = r*S[:,i]*dt + np.sqrt(V[:,i])*S[:,i]*np.sqrt(dt)*Z1[:,i] #Delta prezzo\n",
    "    dV = kappa*(theta-V[:,i])*dt + sigma*np.sqrt(V[:,i])*np.sqrt(dt)*Z2[:,i] #Delta varianza\n",
    "    S[:,i+1] = S[:,i] + dS  \n",
    "    V[:,i+1] = V[:,i] + dV  \n",
    "    V[:,i+1] = np.maximum(V[:,i+1], 0)  #Confronto la var della montecarlo al tempo t con 0, prendo il massimo o 0, non può essere negativa"
   ]
  },
  {
   "cell_type": "code",
   "execution_count": 27,
   "metadata": {},
   "outputs": [],
   "source": [
    "# PAYOFF PUT OPTION\n",
    "payoff = np.maximum(K-S[:,-1], 0)"
   ]
  },
  {
   "cell_type": "code",
   "execution_count": 29,
   "metadata": {},
   "outputs": [
    {
     "name": "stdout",
     "output_type": "stream",
     "text": [
      "Probability that option put will be ITM in one month's time: 0.120704\n"
     ]
    }
   ],
   "source": [
    "# PROBABILITY OPTION PUT IN THE MONEY\n",
    "prob = np.sum(payoff > 0)/N\n",
    "print(\"Probability that option put will be ITM in one month's time:\", prob)"
   ]
  },
  {
   "cell_type": "code",
   "execution_count": null,
   "metadata": {},
   "outputs": [],
   "source": []
  }
 ],
 "metadata": {
  "kernelspec": {
   "display_name": "Python 3",
   "language": "python",
   "name": "python3"
  },
  "language_info": {
   "codemirror_mode": {
    "name": "ipython",
    "version": 3
   },
   "file_extension": ".py",
   "mimetype": "text/x-python",
   "name": "python",
   "nbconvert_exporter": "python",
   "pygments_lexer": "ipython3",
   "version": "3.8.5"
  }
 },
 "nbformat": 4,
 "nbformat_minor": 4
}
